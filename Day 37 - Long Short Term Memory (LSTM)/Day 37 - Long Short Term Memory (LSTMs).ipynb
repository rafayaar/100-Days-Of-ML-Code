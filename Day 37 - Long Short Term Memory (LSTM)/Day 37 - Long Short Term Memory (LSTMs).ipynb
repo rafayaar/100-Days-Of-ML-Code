{
  "nbformat": 4,
  "nbformat_minor": 0,
  "metadata": {
    "colab": {
      "provenance": [],
      "gpuType": "T4"
    },
    "kernelspec": {
      "name": "python3",
      "display_name": "Python 3"
    },
    "language_info": {
      "name": "python"
    },
    "accelerator": "GPU"
  },
  "cells": [
    {
      "cell_type": "code",
      "source": [
        "import tensorflow as tf\n",
        "from tensorflow.keras.datasets import imdb\n",
        "from tensorflow.keras.models import Sequential\n",
        "from tensorflow.keras.layers import LSTM, Embedding, Dense, SpatialDropout1D\n",
        "from tensorflow.keras.preprocessing.sequence import pad_sequences\n",
        "\n",
        "num_words = 10000\n",
        "max_length = 200\n",
        "(x_train, y_train), (x_test, y_test) = imdb.load_data(num_words=num_words)\n",
        "x_train = pad_sequences(x_train, maxlen=max_length)\n",
        "x_test = pad_sequences(x_test, maxlen=max_length)\n",
        "\n",
        "model = Sequential()\n",
        "model.add(Embedding(input_dim=num_words, output_dim=128, input_length=max_length))\n",
        "model.add(SpatialDropout1D(0.2))\n",
        "model.add(LSTM(100))\n",
        "model.add(Dense(1, activation='sigmoid'))\n",
        "\n",
        "model.compile(loss='binary_crossentropy', optimizer='adam', metrics=['accuracy'])\n",
        "\n",
        "batch_size = 64\n",
        "epochs = 5\n",
        "model.fit(x_train, y_train, batch_size=batch_size, epochs=epochs, validation_data=(x_test, y_test))\n",
        "\n",
        "loss, accuracy = model.evaluate(x_test, y_test)\n",
        "print(f\"Test loss: {loss:.4f}, Test accuracy: {accuracy:.4f}\")"
      ],
      "metadata": {
        "colab": {
          "base_uri": "https://localhost:8080/"
        },
        "id": "ZlABgsfouyA7",
        "outputId": "e3d697de-293d-4eb4-e053-b40e26038e13"
      },
      "execution_count": 1,
      "outputs": [
        {
          "output_type": "stream",
          "name": "stdout",
          "text": [
            "Downloading data from https://storage.googleapis.com/tensorflow/tf-keras-datasets/imdb.npz\n",
            "17464789/17464789 [==============================] - 0s 0us/step\n",
            "Epoch 1/5\n",
            "391/391 [==============================] - 63s 140ms/step - loss: 0.4118 - accuracy: 0.8037 - val_loss: 0.3692 - val_accuracy: 0.8455\n",
            "Epoch 2/5\n",
            "391/391 [==============================] - 26s 66ms/step - loss: 0.2393 - accuracy: 0.9083 - val_loss: 0.3413 - val_accuracy: 0.8630\n",
            "Epoch 3/5\n",
            "391/391 [==============================] - 12s 32ms/step - loss: 0.1815 - accuracy: 0.9306 - val_loss: 0.3502 - val_accuracy: 0.8672\n",
            "Epoch 4/5\n",
            "391/391 [==============================] - 10s 25ms/step - loss: 0.1365 - accuracy: 0.9508 - val_loss: 0.4185 - val_accuracy: 0.8604\n",
            "Epoch 5/5\n",
            "391/391 [==============================] - 11s 29ms/step - loss: 0.1106 - accuracy: 0.9602 - val_loss: 0.4305 - val_accuracy: 0.8547\n",
            "782/782 [==============================] - 5s 6ms/step - loss: 0.4305 - accuracy: 0.8547\n",
            "Test loss: 0.4305, Test accuracy: 0.8547\n"
          ]
        }
      ]
    }
  ]
}