{
  "nbformat": 4,
  "nbformat_minor": 0,
  "metadata": {
    "colab": {
      "provenance": [],
      "gpuType": "T4"
    },
    "kernelspec": {
      "name": "python3",
      "display_name": "Python 3"
    },
    "language_info": {
      "name": "python"
    },
    "accelerator": "GPU"
  },
  "cells": [
    {
      "cell_type": "code",
      "source": [
        "import tensorflow_datasets as tfds\n",
        "from tensorflow.keras.utils import to_categorical\n",
        "import tensorflow as tf\n",
        "from tensorflow.keras.applications.vgg16 import VGG16\n",
        "from tensorflow.keras.applications.vgg16 import preprocess_input\n",
        "from tensorflow.keras import layers, models"
      ],
      "metadata": {
        "id": "Fb-hvMfTGQq4"
      },
      "execution_count": 7,
      "outputs": []
    },
    {
      "cell_type": "code",
      "source": [
        "## Loading images and labels\n",
        "(train_ds, train_labels), (test_ds, test_labels) = tfds.load(\n",
        "    \"tf_flowers\",\n",
        "    split=[\"train[:70%]\", \"train[:30%]\"], ## Train test split\n",
        "    batch_size=-1,\n",
        "    as_supervised=True,  # Include labels\n",
        ")\n",
        "\n",
        "## Resizing images\n",
        "train_ds = tf.image.resize(train_ds, (150, 150))\n",
        "test_ds = tf.image.resize(test_ds, (150, 150))\n",
        "\n",
        "## Transforming labels to correct format\n",
        "train_labels = to_categorical(train_labels, num_classes=5)\n",
        "test_labels = to_categorical(test_labels, num_classes=5)"
      ],
      "metadata": {
        "id": "EPrgAXd5F-Ah"
      },
      "execution_count": 8,
      "outputs": []
    },
    {
      "cell_type": "code",
      "source": [
        "## Loading VGG16 model\n",
        "base_model = VGG16(weights=\"imagenet\", include_top=False, input_shape=train_ds[0].shape)\n",
        "base_model.trainable = False ## Not trainable weights\n",
        "\n",
        "## Preprocessing input\n",
        "train_ds = preprocess_input(train_ds)\n",
        "test_ds = preprocess_input(test_ds)"
      ],
      "metadata": {
        "id": "YkjAHlGDF-2H"
      },
      "execution_count": 9,
      "outputs": []
    },
    {
      "cell_type": "code",
      "source": [
        "base_model.summary()"
      ],
      "metadata": {
        "colab": {
          "base_uri": "https://localhost:8080/"
        },
        "id": "gms_vsYPGA-0",
        "outputId": "9967aba0-5107-4201-f6ce-dd1d3539d448"
      },
      "execution_count": 10,
      "outputs": [
        {
          "output_type": "stream",
          "name": "stdout",
          "text": [
            "Model: \"vgg16\"\n",
            "_________________________________________________________________\n",
            " Layer (type)                Output Shape              Param #   \n",
            "=================================================================\n",
            " input_3 (InputLayer)        [(None, 150, 150, 3)]     0         \n",
            "                                                                 \n",
            " block1_conv1 (Conv2D)       (None, 150, 150, 64)      1792      \n",
            "                                                                 \n",
            " block1_conv2 (Conv2D)       (None, 150, 150, 64)      36928     \n",
            "                                                                 \n",
            " block1_pool (MaxPooling2D)  (None, 75, 75, 64)        0         \n",
            "                                                                 \n",
            " block2_conv1 (Conv2D)       (None, 75, 75, 128)       73856     \n",
            "                                                                 \n",
            " block2_conv2 (Conv2D)       (None, 75, 75, 128)       147584    \n",
            "                                                                 \n",
            " block2_pool (MaxPooling2D)  (None, 37, 37, 128)       0         \n",
            "                                                                 \n",
            " block3_conv1 (Conv2D)       (None, 37, 37, 256)       295168    \n",
            "                                                                 \n",
            " block3_conv2 (Conv2D)       (None, 37, 37, 256)       590080    \n",
            "                                                                 \n",
            " block3_conv3 (Conv2D)       (None, 37, 37, 256)       590080    \n",
            "                                                                 \n",
            " block3_pool (MaxPooling2D)  (None, 18, 18, 256)       0         \n",
            "                                                                 \n",
            " block4_conv1 (Conv2D)       (None, 18, 18, 512)       1180160   \n",
            "                                                                 \n",
            " block4_conv2 (Conv2D)       (None, 18, 18, 512)       2359808   \n",
            "                                                                 \n",
            " block4_conv3 (Conv2D)       (None, 18, 18, 512)       2359808   \n",
            "                                                                 \n",
            " block4_pool (MaxPooling2D)  (None, 9, 9, 512)         0         \n",
            "                                                                 \n",
            " block5_conv1 (Conv2D)       (None, 9, 9, 512)         2359808   \n",
            "                                                                 \n",
            " block5_conv2 (Conv2D)       (None, 9, 9, 512)         2359808   \n",
            "                                                                 \n",
            " block5_conv3 (Conv2D)       (None, 9, 9, 512)         2359808   \n",
            "                                                                 \n",
            " block5_pool (MaxPooling2D)  (None, 4, 4, 512)         0         \n",
            "                                                                 \n",
            "=================================================================\n",
            "Total params: 14714688 (56.13 MB)\n",
            "Trainable params: 0 (0.00 Byte)\n",
            "Non-trainable params: 14714688 (56.13 MB)\n",
            "_________________________________________________________________\n"
          ]
        }
      ]
    },
    {
      "cell_type": "code",
      "source": [
        "flatten_layer = layers.Flatten()\n",
        "dense_layer_1 = layers.Dense(50, activation='relu')\n",
        "dense_layer_2 = layers.Dense(20, activation='relu')\n",
        "prediction_layer = layers.Dense(5, activation='softmax')\n",
        "\n",
        "\n",
        "model = models.Sequential([\n",
        "    base_model,\n",
        "    flatten_layer,\n",
        "    dense_layer_1,\n",
        "    dense_layer_2,\n",
        "    prediction_layer\n",
        "])"
      ],
      "metadata": {
        "id": "rUB7PfsEGCJ6"
      },
      "execution_count": 11,
      "outputs": []
    },
    {
      "cell_type": "code",
      "source": [
        "\n",
        "from tensorflow.keras.callbacks import EarlyStopping\n",
        "\n",
        "model.compile(\n",
        "    optimizer='adam',\n",
        "    loss='categorical_crossentropy',\n",
        "    metrics=['accuracy'],\n",
        ")\n",
        "\n",
        "\n",
        "es = EarlyStopping(monitor='val_accuracy', mode='max', patience=5,  restore_best_weights=True)\n",
        "\n",
        "model.fit(train_ds, train_labels, epochs=50, validation_split=0.2, batch_size=32, callbacks=[es])"
      ],
      "metadata": {
        "colab": {
          "base_uri": "https://localhost:8080/"
        },
        "id": "73q1CHP1GD2Z",
        "outputId": "1eb77677-5dc0-465d-e4c7-7ac76c4a9a47"
      },
      "execution_count": 12,
      "outputs": [
        {
          "output_type": "stream",
          "name": "stdout",
          "text": [
            "Epoch 1/50\n",
            "65/65 [==============================] - 20s 112ms/step - loss: 1.8690 - accuracy: 0.5173 - val_loss: 1.0498 - val_accuracy: 0.5973\n",
            "Epoch 2/50\n",
            "65/65 [==============================] - 5s 83ms/step - loss: 0.7590 - accuracy: 0.7343 - val_loss: 0.9494 - val_accuracy: 0.6712\n",
            "Epoch 3/50\n",
            "65/65 [==============================] - 6s 86ms/step - loss: 0.4651 - accuracy: 0.8326 - val_loss: 0.9854 - val_accuracy: 0.6673\n",
            "Epoch 4/50\n",
            "65/65 [==============================] - 5s 84ms/step - loss: 0.2931 - accuracy: 0.8968 - val_loss: 1.0974 - val_accuracy: 0.6693\n",
            "Epoch 5/50\n",
            "65/65 [==============================] - 6s 88ms/step - loss: 0.1864 - accuracy: 0.9416 - val_loss: 1.0401 - val_accuracy: 0.6926\n",
            "Epoch 6/50\n",
            "65/65 [==============================] - 5s 84ms/step - loss: 0.1855 - accuracy: 0.9363 - val_loss: 1.1191 - val_accuracy: 0.6770\n",
            "Epoch 7/50\n",
            "65/65 [==============================] - 5s 84ms/step - loss: 0.1075 - accuracy: 0.9674 - val_loss: 1.2280 - val_accuracy: 0.6829\n",
            "Epoch 8/50\n",
            "65/65 [==============================] - 5s 85ms/step - loss: 0.0738 - accuracy: 0.9815 - val_loss: 1.2839 - val_accuracy: 0.6907\n",
            "Epoch 9/50\n",
            "65/65 [==============================] - 5s 83ms/step - loss: 0.0526 - accuracy: 0.9859 - val_loss: 1.3561 - val_accuracy: 0.6868\n",
            "Epoch 10/50\n",
            "65/65 [==============================] - 5s 84ms/step - loss: 0.0395 - accuracy: 0.9903 - val_loss: 1.3901 - val_accuracy: 0.7043\n",
            "Epoch 11/50\n",
            "65/65 [==============================] - 5s 83ms/step - loss: 0.0305 - accuracy: 0.9932 - val_loss: 1.4301 - val_accuracy: 0.6965\n",
            "Epoch 12/50\n",
            "65/65 [==============================] - 6s 86ms/step - loss: 0.0274 - accuracy: 0.9937 - val_loss: 1.5863 - val_accuracy: 0.6887\n",
            "Epoch 13/50\n",
            "65/65 [==============================] - 5s 82ms/step - loss: 0.0375 - accuracy: 0.9932 - val_loss: 1.6169 - val_accuracy: 0.6829\n",
            "Epoch 14/50\n",
            "65/65 [==============================] - 6s 86ms/step - loss: 0.0246 - accuracy: 0.9946 - val_loss: 1.5872 - val_accuracy: 0.6984\n",
            "Epoch 15/50\n",
            "65/65 [==============================] - 5s 83ms/step - loss: 0.0156 - accuracy: 0.9971 - val_loss: 1.6775 - val_accuracy: 0.6809\n"
          ]
        },
        {
          "output_type": "execute_result",
          "data": {
            "text/plain": [
              "<keras.src.callbacks.History at 0x7b3ca056cc40>"
            ]
          },
          "metadata": {},
          "execution_count": 12
        }
      ]
    }
  ]
}