{
 "cells": [
  {
   "cell_type": "code",
   "execution_count": 2,
   "id": "e74cb0f1",
   "metadata": {},
   "outputs": [
    {
     "name": "stdout",
     "output_type": "stream",
     "text": [
      "Original User-Item Matrix:\n",
      "[[0.5488135  0.71518937 0.60276338 0.54488318 0.4236548 ]\n",
      " [0.64589411 0.43758721 0.891773   0.96366276 0.38344152]\n",
      " [0.79172504 0.52889492 0.56804456 0.92559664 0.07103606]\n",
      " [0.0871293  0.0202184  0.83261985 0.77815675 0.87001215]]\n",
      "\n",
      "Predicted User-Item Matrix:\n",
      "[[0.41141901 0.32376396 0.54669665 0.60737749 0.32140248]\n",
      " [0.4908066  0.39758452 0.72441999 0.77569144 0.44178481]\n",
      " [0.51765735 0.39648235 0.54915431 0.7066277  0.2768967 ]\n",
      " [0.33444655 0.28866723 0.60356497 0.60813243 0.3891929 ]]\n"
     ]
    }
   ],
   "source": [
    "import numpy as np\n",
    "\n",
    "num_users = 4\n",
    "num_items = 5\n",
    "\n",
    "num_factors = 3\n",
    "\n",
    "np.random.seed(0)\n",
    "user_item_matrix = np.random.rand(num_users, num_items)\n",
    "\n",
    "learning_rate = 0.01\n",
    "num_epochs = 100\n",
    "regularization = 0.1\n",
    "\n",
    "user_matrix = np.random.rand(num_users, num_factors)\n",
    "item_matrix = np.random.rand(num_items, num_factors)\n",
    "\n",
    "for epoch in range(num_epochs):\n",
    "    for i in range(num_users):\n",
    "        for j in range(num_items):\n",
    "            if user_item_matrix[i, j] > 0:\n",
    "                prediction = np.dot(user_matrix[i, :], item_matrix[j, :])\n",
    "                error = user_item_matrix[i, j] - prediction\n",
    "                for k in range(num_factors):\n",
    "                    user_matrix[i, k] += learning_rate * (2 * error * item_matrix[j, k] - 2 * regularization * user_matrix[i, k])\n",
    "                    item_matrix[j, k] += learning_rate * (2 * error * user_matrix[i, k] - 2 * regularization * item_matrix[j, k])\n",
    "\n",
    "predicted_matrix = np.dot(user_matrix, item_matrix.T)\n",
    "\n",
    "print(\"Original User-Item Matrix:\")\n",
    "print(user_item_matrix)\n",
    "print(\"\\nPredicted User-Item Matrix:\")\n",
    "print(predicted_matrix)\n"
   ]
  },
  {
   "cell_type": "code",
   "execution_count": null,
   "id": "f76401a7",
   "metadata": {},
   "outputs": [],
   "source": []
  }
 ],
 "metadata": {
  "kernelspec": {
   "display_name": "Python 3 (ipykernel)",
   "language": "python",
   "name": "python3"
  },
  "language_info": {
   "codemirror_mode": {
    "name": "ipython",
    "version": 3
   },
   "file_extension": ".py",
   "mimetype": "text/x-python",
   "name": "python",
   "nbconvert_exporter": "python",
   "pygments_lexer": "ipython3",
   "version": "3.10.11"
  }
 },
 "nbformat": 4,
 "nbformat_minor": 5
}
