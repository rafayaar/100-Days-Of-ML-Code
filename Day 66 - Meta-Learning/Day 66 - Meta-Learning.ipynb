{
 "cells": [
  {
   "cell_type": "code",
   "execution_count": 1,
   "id": "7df3cd02",
   "metadata": {},
   "outputs": [],
   "source": [
    "import torch\n",
    "import torch.nn as nn\n",
    "import torch.optim as optim\n",
    "import copy\n",
    "\n",
    "class Model(nn.Module):\n",
    "    def __init__(self):\n",
    "        super(Model, self).__init__()\n",
    "        self.fc = nn.Linear(1, 1)\n",
    "\n",
    "    def forward(self, x):\n",
    "        return self.fc(x)\n",
    "\n",
    "def meta_train(model, support_set, query_set, inner_lr=0.01, meta_lr=0.001, num_updates=5):\n",
    "    optimizer = optim.SGD(model.parameters(), lr=meta_lr)\n",
    "\n",
    "    for _ in range(num_updates):\n",
    "        for support_input, support_target in support_set:\n",
    "            support_input, support_target = support_input.unsqueeze(0), support_target.unsqueeze(0)\n",
    "            model.zero_grad()\n",
    "            loss = nn.MSELoss()(model(support_input), support_target)\n",
    "            gradients = torch.autograd.grad(loss, model.parameters(), create_graph=True)\n",
    "            model_copy = inner_update(model, gradients, inner_lr)\n",
    "\n",
    "        total_loss = 0\n",
    "        for query_input, query_target in query_set:\n",
    "            query_input, query_target = query_input.unsqueeze(0), query_target.unsqueeze(0)\n",
    "            loss = nn.MSELoss()(model_copy(query_input), query_target)\n",
    "            total_loss += loss\n",
    "\n",
    "        optimizer.zero_grad()\n",
    "        total_loss.backward()\n",
    "        optimizer.step()\n",
    "\n",
    "def inner_update(model, gradients, inner_lr):\n",
    "    updated_model = copy.deepcopy(model)\n",
    "    for p, g in zip(updated_model.parameters(), gradients):\n",
    "        p.data.sub_(inner_lr * g)\n",
    "    return updated_model\n"
   ]
  },
  {
   "cell_type": "code",
   "execution_count": 2,
   "id": "41249587",
   "metadata": {},
   "outputs": [
    {
     "name": "stdout",
     "output_type": "stream",
     "text": [
      "Prediction for test input: -0.454787015914917\n"
     ]
    }
   ],
   "source": [
    "model = Model()\n",
    "support_set = [(torch.tensor([1.0]), torch.tensor([2.0]))]\n",
    "query_set = [(torch.tensor([1.5]), torch.tensor([3.0]))]\n",
    "\n",
    "meta_train(model, support_set, query_set)\n",
    "\n",
    "test_input = torch.tensor([2.0])\n",
    "prediction = model(test_input.unsqueeze(0))\n",
    "\n",
    "print(f\"Prediction for test input: {prediction.item()}\")\n"
   ]
  },
  {
   "cell_type": "code",
   "execution_count": 3,
   "id": "96d0801a",
   "metadata": {},
   "outputs": [
    {
     "name": "stdout",
     "output_type": "stream",
     "text": [
      "Prediction for test input: 1.1015632152557373\n"
     ]
    }
   ],
   "source": [
    "model = Model()\n",
    "support_set = [(torch.tensor([1.0]), torch.tensor([2.0]))]\n",
    "query_set = [(torch.tensor([1.5]), torch.tensor([3.0]))]\n",
    "\n",
    "meta_train(model, support_set, query_set)\n",
    "\n",
    "test_input = torch.tensor([2.0])\n",
    "prediction = model(test_input.unsqueeze(0))\n",
    "\n",
    "print(f\"Prediction for test input: {prediction.item()}\")\n"
   ]
  },
  {
   "cell_type": "code",
   "execution_count": 4,
   "id": "ce60e01d",
   "metadata": {},
   "outputs": [
    {
     "name": "stdout",
     "output_type": "stream",
     "text": [
      "Prediction for test input: -1.5164753198623657\n"
     ]
    }
   ],
   "source": [
    "model = Model()\n",
    "support_set = [(torch.tensor([1.0]), torch.tensor([2.0]))]\n",
    "query_set = [(torch.tensor([1.5]), torch.tensor([3.0]))]\n",
    "\n",
    "meta_train(model, support_set, query_set)\n",
    "\n",
    "test_input = torch.tensor([2.0])\n",
    "prediction = model(test_input.unsqueeze(0))\n",
    "\n",
    "print(f\"Prediction for test input: {prediction.item()}\")\n"
   ]
  }
 ],
 "metadata": {
  "kernelspec": {
   "display_name": "Python 3 (ipykernel)",
   "language": "python",
   "name": "python3"
  },
  "language_info": {
   "codemirror_mode": {
    "name": "ipython",
    "version": 3
   },
   "file_extension": ".py",
   "mimetype": "text/x-python",
   "name": "python",
   "nbconvert_exporter": "python",
   "pygments_lexer": "ipython3",
   "version": "3.11.5"
  }
 },
 "nbformat": 4,
 "nbformat_minor": 5
}
