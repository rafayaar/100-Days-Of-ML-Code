{
 "cells": [
  {
   "cell_type": "code",
   "execution_count": 1,
   "id": "c834f4be",
   "metadata": {},
   "outputs": [
    {
     "name": "stderr",
     "output_type": "stream",
     "text": [
      "2024-02-06 16:07:33.573491: I external/local_tsl/tsl/cuda/cudart_stub.cc:31] Could not find cuda drivers on your machine, GPU will not be used.\n",
      "2024-02-06 16:07:33.598473: E external/local_xla/xla/stream_executor/cuda/cuda_dnn.cc:9261] Unable to register cuDNN factory: Attempting to register factory for plugin cuDNN when one has already been registered\n",
      "2024-02-06 16:07:33.598493: E external/local_xla/xla/stream_executor/cuda/cuda_fft.cc:607] Unable to register cuFFT factory: Attempting to register factory for plugin cuFFT when one has already been registered\n",
      "2024-02-06 16:07:33.599119: E external/local_xla/xla/stream_executor/cuda/cuda_blas.cc:1515] Unable to register cuBLAS factory: Attempting to register factory for plugin cuBLAS when one has already been registered\n",
      "2024-02-06 16:07:33.602943: I external/local_tsl/tsl/cuda/cudart_stub.cc:31] Could not find cuda drivers on your machine, GPU will not be used.\n",
      "2024-02-06 16:07:33.603491: I tensorflow/core/platform/cpu_feature_guard.cc:182] This TensorFlow binary is optimized to use available CPU instructions in performance-critical operations.\n",
      "To enable the following instructions: AVX2 FMA, in other operations, rebuild TensorFlow with the appropriate compiler flags.\n",
      "2024-02-06 16:07:34.151363: W tensorflow/compiler/tf2tensorrt/utils/py_utils.cc:38] TF-TRT Warning: Could not find TensorRT\n"
     ]
    }
   ],
   "source": [
    "import numpy as np\n",
    "import tensorflow as tf\n",
    "from tensorflow.keras.layers import Input, Embedding, LSTM, Dense, Attention\n",
    "from tensorflow.keras.models import Model\n",
    "from tensorflow.keras.preprocessing.text import Tokenizer\n",
    "from tensorflow.keras.preprocessing.sequence import pad_sequences\n",
    "\n",
    "num_samples = 10000\n",
    "max_sequence_length = 20\n",
    "\n",
    "input_texts = []\n",
    "target_texts = []\n",
    "\n",
    "for _ in range(num_samples):\n",
    "    input_text = \" \".join(np.random.choice([\"hello\", \"goodbye\", \"how are you\", \"I love you\"], size=3))\n",
    "    target_text = \" \".join(np.random.choice([\"bonjour\", \"au revoir\", \"comment ça va\", \"je t'aime\"], size=3))\n",
    "    \n",
    "    input_texts.append(input_text)\n",
    "    target_texts.append(target_text)\n",
    "\n"
   ]
  },
  {
   "cell_type": "code",
   "execution_count": 2,
   "id": "938f9805",
   "metadata": {},
   "outputs": [],
   "source": [
    "tokenizer_input = Tokenizer()\n",
    "tokenizer_input.fit_on_texts(input_texts)\n",
    "input_sequences = tokenizer_input.texts_to_sequences(input_texts)\n",
    "\n",
    "tokenizer_target = Tokenizer()\n",
    "tokenizer_target.fit_on_texts(target_texts)\n",
    "target_sequences = tokenizer_target.texts_to_sequences(target_texts)\n",
    "\n"
   ]
  },
  {
   "cell_type": "code",
   "execution_count": 3,
   "id": "c1966a64",
   "metadata": {},
   "outputs": [],
   "source": [
    "encoder_input_data = pad_sequences(input_sequences, maxlen=max_sequence_length, padding='post')\n",
    "decoder_input_data = pad_sequences(target_sequences, maxlen=max_sequence_length, padding='post')\n",
    "\n",
    "decoder_target_data = np.zeros_like(decoder_input_data)\n",
    "decoder_target_data[:, 0:-1] = decoder_input_data[:, 1:]\n",
    "decoder_target_data[:, -1] = 0  \n"
   ]
  },
  {
   "cell_type": "code",
   "execution_count": 4,
   "id": "5d4a24eb",
   "metadata": {},
   "outputs": [],
   "source": [
    "embedding_dim = 50\n",
    "latent_dim = 256\n",
    "\n",
    "encoder_inputs = Input(shape=(max_sequence_length,))\n",
    "encoder_embedding = Embedding(input_dim=len(tokenizer_input.word_index) + 1, output_dim=embedding_dim)(encoder_inputs)\n",
    "encoder_lstm = LSTM(latent_dim, return_sequences=True)(encoder_embedding)\n",
    "\n",
    "decoder_inputs = Input(shape=(max_sequence_length,))\n",
    "decoder_embedding = Embedding(input_dim=len(tokenizer_target.word_index) + 1, output_dim=embedding_dim)(decoder_inputs)\n",
    "decoder_lstm = LSTM(latent_dim, return_sequences=True)(decoder_embedding)\n"
   ]
  },
  {
   "cell_type": "code",
   "execution_count": 5,
   "id": "df2ed7c3",
   "metadata": {},
   "outputs": [],
   "source": [
    "\n",
    "attention = Attention()([encoder_lstm, decoder_lstm])\n",
    "context = tf.keras.layers.Concatenate(axis=-1)([decoder_lstm, attention])\n",
    "\n",
    "output = Dense(len(tokenizer_target.word_index) + 1, activation='softmax')(context)\n"
   ]
  },
  {
   "cell_type": "code",
   "execution_count": 6,
   "id": "957fa1d7",
   "metadata": {},
   "outputs": [],
   "source": [
    "model = Model(inputs=[encoder_inputs, decoder_inputs], outputs=output)"
   ]
  },
  {
   "cell_type": "code",
   "execution_count": 7,
   "id": "aa434a3f",
   "metadata": {},
   "outputs": [],
   "source": [
    "model.compile(optimizer='adam', loss='sparse_categorical_crossentropy', metrics=['accuracy'])"
   ]
  },
  {
   "cell_type": "code",
   "execution_count": 8,
   "id": "4d97bc59",
   "metadata": {},
   "outputs": [
    {
     "name": "stdout",
     "output_type": "stream",
     "text": [
      "Epoch 1/10\n"
     ]
    },
    {
     "name": "stderr",
     "output_type": "stream",
     "text": [
      "WARNING: All log messages before absl::InitializeLog() is called are written to STDERR\n",
      "W0000 00:00:1707217657.267667   33597 op_level_cost_estimator.cc:699] Error in PredictCost() for the op: op: \"Softmax\" attr { key: \"T\" value { type: DT_FLOAT } } inputs { dtype: DT_FLOAT shape { unknown_rank: true } } device { type: \"CPU\" vendor: \"GenuineIntel\" model: \"110\" frequency: 3000 num_cores: 8 environment { key: \"cpu_instruction_set\" value: \"AVX SSE, SSE2, SSE3, SSSE3, SSE4.1, SSE4.2\" } environment { key: \"eigen\" value: \"3.4.90\" } l1_cache_size: 32768 l2_cache_size: 262144 l3_cache_size: 12582912 memory_size: 268435456 } outputs { dtype: DT_FLOAT shape { unknown_rank: true } }\n"
     ]
    },
    {
     "name": "stdout",
     "output_type": "stream",
     "text": [
      "125/125 [==============================] - ETA: 0s - loss: 0.7035 - accuracy: 0.7667"
     ]
    },
    {
     "name": "stderr",
     "output_type": "stream",
     "text": [
      "W0000 00:00:1707217661.837677   33597 op_level_cost_estimator.cc:699] Error in PredictCost() for the op: op: \"Softmax\" attr { key: \"T\" value { type: DT_FLOAT } } inputs { dtype: DT_FLOAT shape { unknown_rank: true } } device { type: \"CPU\" vendor: \"GenuineIntel\" model: \"110\" frequency: 3000 num_cores: 8 environment { key: \"cpu_instruction_set\" value: \"AVX SSE, SSE2, SSE3, SSSE3, SSE4.1, SSE4.2\" } environment { key: \"eigen\" value: \"3.4.90\" } l1_cache_size: 32768 l2_cache_size: 262144 l3_cache_size: 12582912 memory_size: 268435456 } outputs { dtype: DT_FLOAT shape { unknown_rank: true } }\n"
     ]
    },
    {
     "name": "stdout",
     "output_type": "stream",
     "text": [
      "125/125 [==============================] - 7s 38ms/step - loss: 0.7035 - accuracy: 0.7667 - val_loss: 0.5517 - val_accuracy: 0.7876\n",
      "Epoch 2/10\n",
      "125/125 [==============================] - 4s 35ms/step - loss: 0.4126 - accuracy: 0.8619 - val_loss: 0.1910 - val_accuracy: 0.9515\n",
      "Epoch 3/10\n",
      "125/125 [==============================] - 4s 34ms/step - loss: 0.0718 - accuracy: 0.9814 - val_loss: 0.0219 - val_accuracy: 0.9973\n",
      "Epoch 4/10\n",
      "125/125 [==============================] - 5s 36ms/step - loss: 0.0104 - accuracy: 0.9997 - val_loss: 0.0046 - val_accuracy: 1.0000\n",
      "Epoch 5/10\n",
      "125/125 [==============================] - 4s 35ms/step - loss: 0.0030 - accuracy: 1.0000 - val_loss: 0.0018 - val_accuracy: 1.0000\n",
      "Epoch 6/10\n",
      "125/125 [==============================] - 4s 35ms/step - loss: 0.0015 - accuracy: 1.0000 - val_loss: 0.0010 - val_accuracy: 1.0000\n",
      "Epoch 7/10\n",
      "125/125 [==============================] - 4s 36ms/step - loss: 0.0119 - accuracy: 0.9972 - val_loss: 0.0102 - val_accuracy: 1.0000\n",
      "Epoch 8/10\n",
      "125/125 [==============================] - 4s 35ms/step - loss: 0.0037 - accuracy: 1.0000 - val_loss: 0.0017 - val_accuracy: 1.0000\n",
      "Epoch 9/10\n",
      "125/125 [==============================] - 4s 35ms/step - loss: 0.0013 - accuracy: 1.0000 - val_loss: 9.2193e-04 - val_accuracy: 1.0000\n",
      "Epoch 10/10\n",
      "125/125 [==============================] - 4s 35ms/step - loss: 7.8494e-04 - accuracy: 1.0000 - val_loss: 6.0808e-04 - val_accuracy: 1.0000\n"
     ]
    },
    {
     "data": {
      "text/plain": [
       "<keras.src.callbacks.History at 0x7f63f8419ad0>"
      ]
     },
     "execution_count": 8,
     "metadata": {},
     "output_type": "execute_result"
    }
   ],
   "source": [
    "model.fit([encoder_input_data, decoder_input_data], decoder_target_data, epochs=10, batch_size=64, validation_split=0.2)"
   ]
  }
 ],
 "metadata": {
  "kernelspec": {
   "display_name": "Python 3 (ipykernel)",
   "language": "python",
   "name": "python3"
  },
  "language_info": {
   "codemirror_mode": {
    "name": "ipython",
    "version": 3
   },
   "file_extension": ".py",
   "mimetype": "text/x-python",
   "name": "python",
   "nbconvert_exporter": "python",
   "pygments_lexer": "ipython3",
   "version": "3.11.7"
  }
 },
 "nbformat": 4,
 "nbformat_minor": 5
}
