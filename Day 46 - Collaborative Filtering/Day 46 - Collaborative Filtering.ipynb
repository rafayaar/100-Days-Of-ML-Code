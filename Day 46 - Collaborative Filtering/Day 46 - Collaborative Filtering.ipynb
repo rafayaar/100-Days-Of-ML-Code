{
 "cells": [
  {
   "cell_type": "code",
   "execution_count": 3,
   "id": "03b27ee8",
   "metadata": {},
   "outputs": [],
   "source": [
    "import pandas as pd\n",
    "from sklearn.model_selection import train_test_split\n",
    "from sklearn.metrics.pairwise import cosine_similarity\n",
    "\n",
    "movies = pd.read_csv(r\"movies.csv\")\n",
    "ratings = pd.read_csv(r\"\ratings.csv\")\n",
    "\n",
    "movie_ratings = pd.merge(ratings, movies, on='movieId')\n",
    "\n",
    "user_movie_matrix = movie_ratings.pivot_table(index='userId', columns='title', values='rating')\n",
    "\n",
    "user_movie_matrix = user_movie_matrix.fillna(0)\n",
    "\n",
    "train_data, test_data = train_test_split(user_movie_matrix, test_size=0.2)\n",
    "\n",
    "item_similarity = cosine_similarity(train_data.T)\n",
    "\n",
    "def get_movie_recommendations(user_id, num_recommendations=5):\n",
    "    user_ratings = train_data.loc[user_id]\n",
    "    similar_scores = item_similarity.dot(user_ratings)\n",
    "    recommended_movies = list(train_data.columns[similar_scores.argsort()[-num_recommendations:][::-1]])\n",
    "    return recommended_movies"
   ]
  },
  {
   "cell_type": "code",
   "execution_count": 4,
   "id": "a6472dfe",
   "metadata": {},
   "outputs": [
    {
     "name": "stdout",
     "output_type": "stream",
     "text": [
      "Recommended movies for User 1:\n",
      "Indiana Jones and the Temple of Doom (1984)\n",
      "RoboCop (1987)\n",
      "Star Wars: Episode V - The Empire Strikes Back (1980)\n",
      "Who Framed Roger Rabbit? (1988)\n",
      "Crocodile Dundee (1986)\n"
     ]
    }
   ],
   "source": [
    "user_id = 1\n",
    "recommendations = get_movie_recommendations(user_id)\n",
    "print(f\"Recommended movies for User {user_id}:\")\n",
    "for movie in recommendations:\n",
    "    print(movie)"
   ]
  },
  {
   "cell_type": "code",
   "execution_count": null,
   "id": "e74cb0f1",
   "metadata": {},
   "outputs": [],
   "source": []
  }
 ],
 "metadata": {
  "kernelspec": {
   "display_name": "Python 3 (ipykernel)",
   "language": "python",
   "name": "python3"
  },
  "language_info": {
   "codemirror_mode": {
    "name": "ipython",
    "version": 3
   },
   "file_extension": ".py",
   "mimetype": "text/x-python",
   "name": "python",
   "nbconvert_exporter": "python",
   "pygments_lexer": "ipython3",
   "version": "3.10.11"
  }
 },
 "nbformat": 4,
 "nbformat_minor": 5
}
