{
  "nbformat": 4,
  "nbformat_minor": 0,
  "metadata": {
    "colab": {
      "provenance": [],
      "gpuType": "T4"
    },
    "kernelspec": {
      "name": "python3",
      "display_name": "Python 3"
    },
    "language_info": {
      "name": "python"
    },
    "accelerator": "GPU"
  },
  "cells": [
    {
      "cell_type": "code",
      "source": [
        "import tensorflow as tf\n",
        "from tensorflow import keras\n",
        "from tensorflow.keras import layers\n",
        "import numpy as np\n",
        "\n",
        "# Load the MNIST dataset\n",
        "(x_train, _), (x_test, _) = keras.datasets.mnist.load_data()\n",
        "x_train, x_test = x_train / 255.0, x_test / 255.0  # Normalize pixel values\n",
        "\n",
        "# Build the Variational Autoencoder (VAE) model\n",
        "latent_dim = 2  # Latent space dimension\n",
        "\n",
        "# Encoder\n",
        "encoder_inputs = keras.Input(shape=(28, 28))\n",
        "x = layers.Flatten()(encoder_inputs)\n",
        "x = layers.Dense(128, activation=\"relu\")(x)\n",
        "z_mean = layers.Dense(latent_dim, name=\"z_mean\")(x)\n",
        "z_log_var = layers.Dense(latent_dim, name=\"z_log_var\")(x)\n",
        "\n",
        "# Reparameterization trick\n",
        "def sampling(args):\n",
        "    z_mean, z_log_var = args\n",
        "    epsilon = tf.random.normal(shape=(tf.shape(z_mean)[0], latent_dim))\n",
        "    return z_mean + tf.exp(0.5 * z_log_var) * epsilon\n",
        "\n",
        "z = layers.Lambda(sampling, output_shape=(latent_dim,))([z_mean, z_log_var])\n",
        "\n",
        "encoder = keras.Model(encoder_inputs, [z_mean, z_log_var, z], name=\"encoder\")\n",
        "\n",
        "# Decoder\n",
        "latent_inputs = keras.Input(shape=(latent_dim,))\n",
        "x = layers.Dense(128, activation=\"relu\")(latent_inputs)\n",
        "x = layers.Dense(28 * 28, activation=\"sigmoid\")(x)\n",
        "decoder_outputs = layers.Reshape((28, 28))(x)\n",
        "\n",
        "decoder = keras.Model(latent_inputs, decoder_outputs, name=\"decoder\")\n",
        "\n",
        "# VAE model\n",
        "vae_outputs = decoder(encoder(encoder_inputs)[2])\n",
        "vae = keras.Model(encoder_inputs, vae_outputs, name=\"vae\")\n",
        "\n",
        "# Define custom loss function for VAE\n",
        "def vae_loss(encoder, decoder, original, reconstructed):\n",
        "    original = tf.reshape(original, [-1, 28 * 28])  # Reshape original\n",
        "    reconstructed = tf.reshape(reconstructed, [-1, 28 * 28])  # Reshape reconstructed\n",
        "    reconstruction_loss = keras.losses.binary_crossentropy(original, reconstructed)\n",
        "    reconstruction_loss *= 28 * 28\n",
        "    kl_loss = 1 + z_log_var - tf.square(z_mean) - tf.exp(z_log_var)\n",
        "    kl_loss = -0.5 * tf.reduce_sum(kl_loss, axis=-1)\n",
        "    return tf.reduce_mean(reconstruction_loss + kl_loss)\n",
        "\n",
        "# Compile the VAE model\n",
        "vae.compile(optimizer='adam', loss=lambda original, reconstructed: vae_loss(encoder, decoder, original, reconstructed))\n",
        "\n",
        "# Train the VAE\n",
        "vae.fit(x_train, x_train, epochs=10, batch_size=32)\n",
        "\n",
        "# Generate samples from the trained VAE\n",
        "random_samples = np.random.normal(0, 1, size=(16, latent_dim))\n",
        "generated_images = decoder.predict(random_samples)\n",
        "\n",
        "# You can now visualize the generated images or use them for your specific application.\n"
      ],
      "metadata": {
        "id": "v-nbnFVjZKJH",
        "colab": {
          "base_uri": "https://localhost:8080/"
        },
        "outputId": "66bf4448-ea7d-4db4-9b13-156446e42ad5"
      },
      "execution_count": 5,
      "outputs": [
        {
          "output_type": "stream",
          "name": "stdout",
          "text": [
            "Train on 60000 samples\n",
            "Epoch 1/10\n",
            "60000/60000 [==============================] - 9s 152us/sample - loss: 185.2920\n",
            "Epoch 2/10\n",
            "60000/60000 [==============================] - 7s 110us/sample - loss: 167.2100\n",
            "Epoch 3/10\n",
            "60000/60000 [==============================] - 7s 121us/sample - loss: 163.9949\n",
            "Epoch 4/10\n",
            "60000/60000 [==============================] - 7s 118us/sample - loss: 161.8808\n",
            "Epoch 5/10\n",
            "60000/60000 [==============================] - 6s 103us/sample - loss: 160.0927\n",
            "Epoch 6/10\n",
            "60000/60000 [==============================] - 8s 133us/sample - loss: 158.5483\n",
            "Epoch 7/10\n",
            "60000/60000 [==============================] - 6s 100us/sample - loss: 157.4660\n",
            "Epoch 8/10\n",
            "60000/60000 [==============================] - 8s 131us/sample - loss: 156.6327\n",
            "Epoch 9/10\n",
            "60000/60000 [==============================] - 7s 113us/sample - loss: 155.9539\n",
            "Epoch 10/10\n",
            "60000/60000 [==============================] - 8s 132us/sample - loss: 155.3016\n"
          ]
        },
        {
          "output_type": "stream",
          "name": "stderr",
          "text": [
            "/usr/local/lib/python3.10/dist-packages/keras/src/engine/training_v1.py:2359: UserWarning: `Model.state_updates` will be removed in a future version. This property should not be used in TensorFlow 2.0, as `updates` are applied automatically.\n",
            "  updates=self.state_updates,\n"
          ]
        }
      ]
    },
    {
      "cell_type": "code",
      "source": [],
      "metadata": {
        "id": "BsZGwldAFkct"
      },
      "execution_count": null,
      "outputs": []
    }
  ]
}