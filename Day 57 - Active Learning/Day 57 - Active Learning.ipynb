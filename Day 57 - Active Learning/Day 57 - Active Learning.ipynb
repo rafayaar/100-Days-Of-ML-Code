{
  "nbformat": 4,
  "nbformat_minor": 0,
  "metadata": {
    "colab": {
      "provenance": [],
      "gpuType": "T4"
    },
    "kernelspec": {
      "name": "python3",
      "display_name": "Python 3"
    },
    "language_info": {
      "name": "python"
    },
    "accelerator": "GPU"
  },
  "cells": [
    {
      "cell_type": "code",
      "source": [
        "import numpy as np\n",
        "from sklearn import datasets\n",
        "from sklearn.model_selection import train_test_split\n",
        "from sklearn.ensemble import RandomForestClassifier\n",
        "from sklearn.metrics import accuracy_score\n",
        "\n",
        "iris = datasets.load_iris()\n",
        "X, y = iris.data, iris.target\n",
        "\n",
        "X_labeled, X_pool, y_labeled, y_pool = train_test_split(X, y, test_size=0.9, random_state=42)\n",
        "\n",
        "classifier = RandomForestClassifier(n_estimators=100, random_state=42)\n",
        "\n",
        "classifier.fit(X_labeled, y_labeled)\n",
        "\n",
        "y_pool_predictions = classifier.predict(X_pool)\n",
        "\n",
        "initial_accuracy = accuracy_score(y_pool, y_pool_predictions)\n",
        "print(f\"Initial model accuracy: {initial_accuracy:.2f}\")\n",
        "\n",
        "num_queries = 10\n",
        "for i in range(num_queries):\n",
        "    uncertainty = np.max(classifier.predict_proba(X_pool), axis=1)\n",
        "    query_instance_index = np.argmax(uncertainty)\n",
        "\n",
        "    query_instance = X_pool[query_instance_index].reshape(1, -1)\n",
        "    queried_label = int(input(f\"Query {i + 1}: What is the label for this instance? \"))\n",
        "\n",
        "    X_labeled = np.concatenate((X_labeled, query_instance), axis=0)\n",
        "    y_labeled = np.concatenate((y_labeled, np.array([queried_label])))\n",
        "\n",
        "    X_pool = np.delete(X_pool, query_instance_index, axis=0)\n",
        "    y_pool = np.delete(y_pool, query_instance_index)\n",
        "\n",
        "    classifier.fit(X_labeled, y_labeled)\n",
        "\n",
        "    y_pool_predictions = classifier.predict(X_pool)\n",
        "\n",
        "    current_accuracy = accuracy_score(y_pool, y_pool_predictions)\n",
        "    print(f\"Model accuracy after {i + 1} queries: {current_accuracy:.2f}\")\n"
      ],
      "metadata": {
        "colab": {
          "base_uri": "https://localhost:8080/"
        },
        "id": "wACkhG08t4Ua",
        "outputId": "1dc22db3-1a9c-45f4-a254-dcaccac911d6"
      },
      "execution_count": 5,
      "outputs": [
        {
          "output_type": "stream",
          "name": "stdout",
          "text": [
            "Initial model accuracy: 0.96\n",
            "Query 1: What is the label for this instance? 0\n",
            "Model accuracy after 1 queries: 0.93\n",
            "Query 2: What is the label for this instance? 1\n",
            "Model accuracy after 2 queries: 0.94\n",
            "Query 3: What is the label for this instance? 2\n",
            "Model accuracy after 3 queries: 0.95\n",
            "Query 4: What is the label for this instance? 3\n",
            "Model accuracy after 4 queries: 0.92\n",
            "Query 5: What is the label for this instance? 4\n",
            "Model accuracy after 5 queries: 0.92\n",
            "Query 6: What is the label for this instance? 5\n",
            "Model accuracy after 6 queries: 0.87\n",
            "Query 7: What is the label for this instance? 6\n",
            "Model accuracy after 7 queries: 0.84\n",
            "Query 8: What is the label for this instance? 7\n",
            "Model accuracy after 8 queries: 0.80\n",
            "Query 9: What is the label for this instance? 8\n",
            "Model accuracy after 9 queries: 0.77\n",
            "Query 10: What is the label for this instance? 9\n",
            "Model accuracy after 10 queries: 0.74\n"
          ]
        }
      ]
    }
  ]
}