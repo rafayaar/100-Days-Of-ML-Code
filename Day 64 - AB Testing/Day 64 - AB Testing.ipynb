{
 "cells": [
  {
   "cell_type": "code",
   "execution_count": 1,
   "id": "69c666ad",
   "metadata": {},
   "outputs": [],
   "source": [
    "import numpy as np\n",
    "from sklearn.model_selection import train_test_split\n",
    "from sklearn.ensemble import RandomForestClassifier\n",
    "from sklearn.linear_model import LogisticRegression\n",
    "from sklearn.metrics import accuracy_score\n",
    "import random\n",
    "\n"
   ]
  },
  {
   "cell_type": "code",
   "execution_count": 2,
   "id": "35c18b9a",
   "metadata": {},
   "outputs": [],
   "source": [
    "random.seed(42)\n",
    "X, y = np.random.rand(100, 5), np.random.randint(0, 2, 100)\n",
    "X_control, X_experiment, y_control, y_experiment = train_test_split(X, y, test_size=0.5, random_state=42)"
   ]
  },
  {
   "cell_type": "code",
   "execution_count": 3,
   "id": "46fbff3d",
   "metadata": {},
   "outputs": [],
   "source": [
    "control_model = LogisticRegression()\n",
    "control_model.fit(X_control, y_control)\n",
    "\n",
    "experimental_model = RandomForestClassifier()\n",
    "experimental_model.fit(X_experiment, y_experiment)\n",
    "\n",
    "total_users = 100\n",
    "users_to_evaluate = random.sample(range(total_users), 50)\n",
    "\n",
    "predictions_control = control_model.predict(X[users_to_evaluate])\n",
    "\n",
    "predictions_experiment = experimental_model.predict(X[users_to_evaluate])"
   ]
  },
  {
   "cell_type": "code",
   "execution_count": 4,
   "id": "53d4a02a",
   "metadata": {},
   "outputs": [
    {
     "name": "stdout",
     "output_type": "stream",
     "text": [
      "Control Group Accuracy: 0.54\n",
      "Experimental Group Accuracy: 0.66\n",
      "T-statistic: -3.851932395249181, p-value: 0.0002092013945339595\n",
      "The difference is statistically significant. Consider deploying the experimental model.\n"
     ]
    }
   ],
   "source": [
    "accuracy_control = accuracy_score(y[users_to_evaluate], predictions_control)\n",
    "accuracy_experiment = accuracy_score(y[users_to_evaluate], predictions_experiment)\n",
    "\n",
    "print(f\"Control Group Accuracy: {accuracy_control}\")\n",
    "print(f\"Experimental Group Accuracy: {accuracy_experiment}\")\n",
    "\n",
    "from scipy.stats import ttest_ind\n",
    "\n",
    "t_stat, p_value = ttest_ind(predictions_control, predictions_experiment)\n",
    "print(f\"T-statistic: {t_stat}, p-value: {p_value}\")\n",
    "\n",
    "if p_value < 0.05:\n",
    "    print(\"The difference is statistically significant. Consider deploying the experimental model.\")\n",
    "else:\n",
    "    print(\"The difference is not statistically significant. Stick with the control model.\")"
   ]
  }
 ],
 "metadata": {
  "kernelspec": {
   "display_name": "Python 3 (ipykernel)",
   "language": "python",
   "name": "python3"
  },
  "language_info": {
   "codemirror_mode": {
    "name": "ipython",
    "version": 3
   },
   "file_extension": ".py",
   "mimetype": "text/x-python",
   "name": "python",
   "nbconvert_exporter": "python",
   "pygments_lexer": "ipython3",
   "version": "3.11.7"
  }
 },
 "nbformat": 4,
 "nbformat_minor": 5
}
