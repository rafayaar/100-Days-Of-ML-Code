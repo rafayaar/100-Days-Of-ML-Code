{
 "cells": [
  {
   "cell_type": "code",
   "execution_count": 1,
   "id": "371a1284",
   "metadata": {},
   "outputs": [
    {
     "name": "stdout",
     "output_type": "stream",
     "text": [
      "Accuracy: 92.50%\n",
      "Classification Report:\n",
      "              precision    recall  f1-score   support\n",
      "\n",
      "           0       0.97      0.94      0.95       100\n",
      "           1       0.74      0.85      0.79        20\n",
      "\n",
      "    accuracy                           0.93       120\n",
      "   macro avg       0.85      0.90      0.87       120\n",
      "weighted avg       0.93      0.93      0.93       120\n",
      "\n"
     ]
    }
   ],
   "source": [
    "import numpy as np\n",
    "from sklearn import svm\n",
    "from sklearn.model_selection import train_test_split\n",
    "from sklearn.metrics import accuracy_score, classification_report\n",
    "\n",
    "np.random.seed(42)\n",
    "normal_data = np.random.normal(size=(100, 2))  # Example normal class data\n",
    "outlier_data = np.random.uniform(low=-5, high=5, size=(20, 2))  # Example outlier class data\n",
    "\n",
    "X_train = normal_data\n",
    "\n",
    "model = svm.OneClassSVM(nu=0.05, kernel='rbf', gamma='scale')\n",
    "\n",
    "model.fit(X_train)\n",
    "\n",
    "test_data = np.vstack([normal_data, outlier_data])\n",
    "\n",
    "predictions = model.predict(test_data)\n",
    "\n",
    "predictions[predictions == 1] = 0  # Inliers\n",
    "predictions[predictions == -1] = 1  # Outliers\n",
    "\n",
    "accuracy = accuracy_score([0] * len(normal_data) + [1] * len(outlier_data), predictions)\n",
    "print(f\"Accuracy: {accuracy * 100:.2f}%\")\n",
    "\n",
    "print(\"Classification Report:\")\n",
    "print(classification_report([0] * len(normal_data) + [1] * len(outlier_data), predictions))\n"
   ]
  },
  {
   "cell_type": "code",
   "execution_count": null,
   "id": "d5b28548",
   "metadata": {},
   "outputs": [],
   "source": []
  }
 ],
 "metadata": {
  "kernelspec": {
   "display_name": "Python 3 (ipykernel)",
   "language": "python",
   "name": "python3"
  },
  "language_info": {
   "codemirror_mode": {
    "name": "ipython",
    "version": 3
   },
   "file_extension": ".py",
   "mimetype": "text/x-python",
   "name": "python",
   "nbconvert_exporter": "python",
   "pygments_lexer": "ipython3",
   "version": "3.11.5"
  }
 },
 "nbformat": 4,
 "nbformat_minor": 5
}
