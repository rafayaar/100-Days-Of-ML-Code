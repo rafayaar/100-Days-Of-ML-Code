{
  "nbformat": 4,
  "nbformat_minor": 0,
  "metadata": {
    "colab": {
      "provenance": [],
      "gpuType": "T4"
    },
    "kernelspec": {
      "name": "python3",
      "display_name": "Python 3"
    },
    "language_info": {
      "name": "python"
    },
    "accelerator": "GPU"
  },
  "cells": [
    {
      "cell_type": "code",
      "source": [
        "import torch\n",
        "import torch.nn as nn\n",
        "import torch.optim as optim\n",
        "import torchvision.models as models\n",
        "import torchvision.transforms as transforms\n",
        "from PIL import Image  # Import the Image module from PIL\n",
        "import torchattacks\n",
        "\n",
        "\n",
        "\n",
        "model = models.resnet50(pretrained=True)\n",
        "model.eval()\n",
        "\n",
        "transform = transforms.Compose([transforms.Resize((224, 224)),\n",
        "                                transforms.ToTensor(),\n",
        "                                transforms.Normalize(mean=[0.485, 0.456, 0.406],\n",
        "                                                     std=[0.229, 0.224, 0.225])])\n",
        "\n",
        "image_path = \"/content/Can-cats-and-dogs-get-coronavirus_resized.jpg\"\n",
        "image = transform(Image.open(image_path).convert(\"RGB\"))\n",
        "image = image.unsqueeze(0)  # Add batch dimension\n",
        "\n",
        "criterion = nn.CrossEntropyLoss()\n",
        "\n",
        "epsilon = 0.03\n",
        "\n",
        "fgsm = torchattacks.FGSM(model, eps=epsilon)\n",
        "\n",
        "adversarial_image = fgsm(image, torch.tensor([target_class]))\n",
        "\n",
        "output = model(adversarial_image)\n",
        "_, predicted = output.max(1)\n",
        "\n",
        "print(\"Predicted class after attack:\", predicted.item())\n",
        "\n",
        "# You can also save the adversarial image\n",
        "adversarial_image = adversarial_image.squeeze(0)  # Remove the batch dimension\n",
        "adversarial_image = transforms.ToPILImage()(adversarial_image)\n",
        "adversarial_image.save(\"adversarial_image.jpg\")\n"
      ],
      "metadata": {
        "colab": {
          "base_uri": "https://localhost:8080/"
        },
        "id": "3WZnPZkHP69_",
        "outputId": "96134c3c-052c-4e80-af65-61e1f6e372cb"
      },
      "execution_count": 37,
      "outputs": [
        {
          "output_type": "stream",
          "name": "stdout",
          "text": [
            "Predicted class after attack: 282\n"
          ]
        }
      ]
    }
  ]
}