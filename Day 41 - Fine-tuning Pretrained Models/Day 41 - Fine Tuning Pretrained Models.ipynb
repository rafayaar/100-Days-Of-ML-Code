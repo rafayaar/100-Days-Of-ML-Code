{
  "nbformat": 4,
  "nbformat_minor": 0,
  "metadata": {
    "colab": {
      "provenance": [],
      "gpuType": "T4"
    },
    "kernelspec": {
      "name": "python3",
      "display_name": "Python 3"
    },
    "language_info": {
      "name": "python"
    },
    "accelerator": "GPU"
  },
  "cells": [
    {
      "cell_type": "code",
      "source": [
        "!pip install transformers"
      ],
      "metadata": {
        "id": "ceJKMosjHPbp"
      },
      "execution_count": null,
      "outputs": []
    },
    {
      "cell_type": "code",
      "source": [
        "import torch\n",
        "from transformers import BertTokenizer, BertForSequenceClassification, AdamW\n",
        "from torch.utils.data import DataLoader, Dataset\n",
        "from sklearn.model_selection import train_test_split\n",
        "\n",
        "# Load and preprocess your dataset\n",
        "class CustomDataset(Dataset):\n",
        "    def __init__(self, texts, labels, tokenizer, max_length=128):\n",
        "        self.encodings = tokenizer(\n",
        "            texts, truncation=True, padding='max_length', max_length=max_length, return_tensors='pt'\n",
        "        )\n",
        "        self.labels = labels\n",
        "\n",
        "    def __len__(self):\n",
        "        return len(self.labels)\n",
        "\n",
        "    def __getitem__(self, idx):\n",
        "        item = {key: val[idx] for key, val in self.encodings.items()}\n",
        "        item['labels'] = torch.tensor(self.labels[idx])\n",
        "        return item\n",
        "\n",
        "# Load the pretrained BERT model and tokenizer\n",
        "model_name = \"bert-base-uncased\"\n",
        "tokenizer = BertTokenizer.from_pretrained(model_name)\n",
        "model = BertForSequenceClassification.from_pretrained(model_name, num_labels=3)  # Change num_labels as needed\n",
        "\n",
        "your_actual_text_data = [\n",
        "    \"This is a positive example.\",\n",
        "    \"Another positive text.\",\n",
        "    \"A negative example with a negative sentiment.\",\n",
        "    \"This is a neutral sentence.\",\n",
        "    \"More positive text.\",\n",
        "    \"Yet another example with negative sentiment.\",\n",
        "    \"I am doing good today\",\n",
        "    \"Why dont you get out of my house?\",\n",
        "    \"I went to get a haircut\",\n",
        "    \"This cat is 1 year old\",\n",
        "    \"Dont call me anymore\",\n",
        "]\n",
        "\n",
        "# Example labels (0 for negative, 1 for neutral, 2 for positive)\n",
        "\n",
        "your_actual_label_data = [2, 2, 0, 1, 2, 0, 2, 0, 1, 1,0]\n",
        "train_texts, val_texts, train_labels, val_labels = train_test_split(\n",
        "    your_actual_text_data, your_actual_label_data, test_size=0.2, random_state=42\n",
        ")\n",
        "\n",
        "# Create DataLoaders for training and validation\n",
        "train_dataset = CustomDataset(train_texts, train_labels, tokenizer)\n",
        "val_dataset = CustomDataset(val_texts, val_labels, tokenizer)\n",
        "\n",
        "train_loader = DataLoader(train_dataset, batch_size=16, shuffle=True)\n",
        "val_loader = DataLoader(val_dataset, batch_size=16)\n",
        "\n",
        "# Define the optimizer and training loop\n",
        "optimizer = AdamW(model.parameters(), lr=2e-5)\n",
        "\n",
        "num_epochs = 3  # Adjust the number of epochs as needed\n",
        "\n",
        "for epoch in range(num_epochs):\n",
        "    model.train()\n",
        "    for batch in train_loader:\n",
        "        optimizer.zero_grad()\n",
        "        inputs = {key: batch[key].to(model.device) for key in batch}\n",
        "        outputs = model(**inputs)\n",
        "        loss = outputs.loss\n",
        "        loss.backward()\n",
        "        optimizer.step()\n",
        "\n",
        "    model.eval()\n",
        "    val_loss = 0\n",
        "    correct = 0\n",
        "    total = 0\n",
        "\n",
        "    with torch.no_grad():\n",
        "        for batch in val_loader:\n",
        "            inputs = {key: batch[key].to(model.device) for key in batch}\n",
        "            outputs = model(**inputs)\n",
        "            loss = outputs.loss\n",
        "            val_loss += loss.item()\n",
        "            total += inputs['labels'].size(0)\n",
        "            _, predicted = torch.max(outputs.logits, 1)\n",
        "            correct += (predicted == inputs['labels']).sum().item()\n",
        "\n",
        "    val_loss /= len(val_loader)\n",
        "    accuracy = correct / total\n",
        "\n",
        "    print(f\"Epoch {epoch + 1}/{num_epochs}: Validation Loss: {val_loss}, Accuracy: {100 * accuracy:.2f}%\")\n",
        "\n",
        "# Save the fine-tuned model\n",
        "model.save_pretrained(\"fine-tuned-bert-model\")\n"
      ],
      "metadata": {
        "colab": {
          "base_uri": "https://localhost:8080/"
        },
        "id": "VbKBvti0HNVz",
        "outputId": "ef09acd0-f01a-4548-afb7-4e50070a25d0"
      },
      "execution_count": 8,
      "outputs": [
        {
          "output_type": "stream",
          "name": "stderr",
          "text": [
            "Some weights of BertForSequenceClassification were not initialized from the model checkpoint at bert-base-uncased and are newly initialized: ['classifier.weight', 'classifier.bias']\n",
            "You should probably TRAIN this model on a down-stream task to be able to use it for predictions and inference.\n",
            "/usr/local/lib/python3.10/dist-packages/transformers/optimization.py:411: FutureWarning: This implementation of AdamW is deprecated and will be removed in a future version. Use the PyTorch implementation torch.optim.AdamW instead, or set `no_deprecation_warning=True` to disable this warning\n",
            "  warnings.warn(\n"
          ]
        },
        {
          "output_type": "stream",
          "name": "stdout",
          "text": [
            "Epoch 1/3: Validation Loss: 1.0844193696975708, Accuracy: 33.33%\n",
            "Epoch 2/3: Validation Loss: 1.0836212635040283, Accuracy: 33.33%\n",
            "Epoch 3/3: Validation Loss: 1.0797704458236694, Accuracy: 33.33%\n"
          ]
        }
      ]
    },
    {
      "cell_type": "code",
      "source": [],
      "metadata": {
        "id": "En00oCK0IFpA"
      },
      "execution_count": null,
      "outputs": []
    }
  ]
}